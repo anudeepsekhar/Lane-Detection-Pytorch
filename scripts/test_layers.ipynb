{
 "nbformat": 4,
 "nbformat_minor": 2,
 "metadata": {
  "language_info": {
   "name": "python",
   "codemirror_mode": {
    "name": "ipython",
    "version": 3
   },
   "version": "3.7.6-final"
  },
  "orig_nbformat": 2,
  "file_extension": ".py",
  "mimetype": "text/x-python",
  "name": "python",
  "npconvert_exporter": "python",
  "pygments_lexer": "ipython3",
  "version": 3,
  "kernelspec": {
   "name": "python37664bitpytorchcondaa4d878140b2546b1918b360ac4dd7935",
   "display_name": "Python 3.7.6 64-bit ('pytorch': conda)"
  }
 },
 "cells": [
  {
   "cell_type": "code",
   "execution_count": 8,
   "metadata": {},
   "outputs": [],
   "source": [
    "from data_utils import LanesDataset, BDD100k\n",
    "from torch.utils.data import DataLoader"
   ]
  },
  {
   "cell_type": "code",
   "execution_count": 2,
   "metadata": {},
   "outputs": [],
   "source": [
    "import torch\n",
    "import torch.nn as nn\n",
    "import torch.nn.functional as F\n",
    "import torch.optim as optim"
   ]
  },
  {
   "cell_type": "code",
   "execution_count": 139,
   "metadata": {},
   "outputs": [],
   "source": [
    "class convBlock(nn.Module):\n",
    "    \"\"\"Some Information about convBlock\"\"\"\n",
    "    def __init__(self, in_channels, out_channels, ks=3, stride=1, padding=1):\n",
    "        super(convBlock, self).__init__()\n",
    "        \n",
    "        self.bn = nn.BatchNorm2d(in_channels)\n",
    "        self.relu = nn.ReLU()\n",
    "        self.conv = nn.Conv2d(in_channels, out_channels, ks, stride, padding)\n",
    "        \n",
    "\n",
    "    def forward(self, x):\n",
    "        x = self.bn(x)\n",
    "        x = self.relu(x)\n",
    "        x = self.conv(x)\n",
    "        return x"
   ]
  },
  {
   "cell_type": "code",
   "execution_count": 165,
   "metadata": {},
   "outputs": [],
   "source": [
    "class denseBlock2(nn.Module):\n",
    "    \"\"\"Some Information about denseBlock2\"\"\"\n",
    "    def __init__(self, in_channels, out_channels, growth_rate, num_convs):\n",
    "        super(denseBlock2, self).__init__()\n",
    "        self.in_channels = in_channels\n",
    "        self.out_channels = out_channels\n",
    "        self.growth_rate = growth_rate\n",
    "        self.net = nn.Sequential()\n",
    "        for i in range(num_convs):\n",
    "            self.net.add_module(f'conv{i}', convBlock(self.in_channels, self.growth_rate))\n",
    "            self.in_channels = self.in_channels + self.growth_rate\n",
    "        self.out_conv = convBlock(self.in_channels, self.out_channels, ks=3)\n",
    "\n",
    "    def forward(self, x):\n",
    "        for blk in self.net.children():\n",
    "            y = blk(x)\n",
    "            x = torch.cat([x, y], 1)\n",
    "        return self.out_conv(x)\n",
    ""
   ]
  },
  {
   "cell_type": "code",
   "execution_count": 176,
   "metadata": {},
   "outputs": [],
   "source": [
    "class denseBlockUp(nn.Module):\n",
    "    \"\"\"Some Information about denseBlockUp\"\"\"\n",
    "    def __init__(self, in_channels, out_channels, growth_rate, num_convs):\n",
    "        super(denseBlockUp, self).__init__()\n",
    "        self.in_channels = in_channels\n",
    "        self.out_channels = out_channels\n",
    "        self.growth_rate = growth_rate\n",
    "        self.net = nn.Sequential()\n",
    "        for i in range(num_convs):\n",
    "            self.net.add_module(f'conv{i}', convBlock(self.in_channels, self.growth_rate))\n",
    "            self.in_channels = self.in_channels + self.growth_rate\n",
    "        self.out_conv = convBlock(self.in_channels, self.out_channels, ks=3)\n",
    "\n",
    "    def forward(self, x):\n",
    "        for blk in self.net.children():\n",
    "            y = blk(x)\n",
    "            x = torch.cat([x, y], 1)\n",
    "            print(x.shape)\n",
    "        return self.out_conv(x)"
   ]
  },
  {
   "cell_type": "code",
   "execution_count": 6,
   "metadata": {},
   "outputs": [],
   "source": [
    "train_img_dir = 'datasets/bdd100k/images/100k/train/'\n",
    "train_label_dir = 'datasets/bdd100k/drivable_maps/labels/train/'\n",
    "val_img_dir = 'datasets/bdd100k/images/100k/val/'\n",
    "val_label_dir = 'datasets/bdd100k/drivable_maps/labels/val/'\n",
    "model_dir = 'saved_models/'\n",
    "exp_no = 2\n",
    "logdir = 'runs/BDD100k_Experiment'+str(exp_no)\n",
    "resize = (128,128)\n",
    "SAMPLE_SIZE = 2000"
   ]
  },
  {
   "cell_type": "code",
   "execution_count": 9,
   "metadata": {},
   "outputs": [],
   "source": [
    "# loading train data\n",
    "train_dataset = BDD100k(train_img_dir,train_label_dir,resize=resize, transform=True, grayscale=False)\n",
    "train_dataloader = DataLoader(train_dataset,batch_size=1, shuffle=False, pin_memory=True, num_workers=2)\n",
    ""
   ]
  },
  {
   "cell_type": "code",
   "execution_count": 16,
   "metadata": {},
   "outputs": [
    {
     "output_type": "execute_result",
     "data": {
      "text/plain": "torch.Size([1, 2, 128, 128])"
     },
     "metadata": {},
     "execution_count": 16
    }
   ],
   "source": [
    "img, mask = iter(train_dataloader).next()\n",
    "print(img.shape)\n",
    "print(mask.shape)"
   ]
  },
  {
   "cell_type": "code",
   "execution_count": 167,
   "metadata": {},
   "outputs": [
    {
     "output_type": "stream",
     "name": "stdout",
     "text": "denseBlock2(\n  (net): Sequential(\n    (conv0): convBlock(\n      (bn): BatchNorm2d(32, eps=1e-05, momentum=0.1, affine=True, track_running_stats=True)\n      (relu): ReLU()\n      (conv): Conv2d(32, 32, kernel_size=(3, 3), stride=(1, 1), padding=(1, 1))\n    )\n    (conv1): convBlock(\n      (bn): BatchNorm2d(64, eps=1e-05, momentum=0.1, affine=True, track_running_stats=True)\n      (relu): ReLU()\n      (conv): Conv2d(64, 32, kernel_size=(3, 3), stride=(1, 1), padding=(1, 1))\n    )\n    (conv2): convBlock(\n      (bn): BatchNorm2d(96, eps=1e-05, momentum=0.1, affine=True, track_running_stats=True)\n      (relu): ReLU()\n      (conv): Conv2d(96, 32, kernel_size=(3, 3), stride=(1, 1), padding=(1, 1))\n    )\n  )\n  (out_conv): convBlock(\n    (bn): BatchNorm2d(128, eps=1e-05, momentum=0.1, affine=True, track_running_stats=True)\n    (relu): ReLU()\n    (conv): Conv2d(128, 64, kernel_size=(3, 3), stride=(1, 1), padding=(1, 1))\n  )\n)\ntorch.Size([1, 64, 128, 128])\n"
    }
   ],
   "source": [
    "conv = nn.Conv2d(3,32,3,stride=1,padding=1)\n",
    "# print(conv)\n",
    "x = conv(img)\n",
    "dense = denseBlock2(32, 64, 32, 3)\n",
    "y = dense(x)\n",
    "print(dense)\n",
    "print(y.shape)\n",
    ""
   ]
  },
  {
   "cell_type": "code",
   "execution_count": 177,
   "metadata": {},
   "outputs": [
    {
     "output_type": "stream",
     "name": "stdout",
     "text": "torch.Size([1, 80, 128, 128])\ntorch.Size([1, 96, 128, 128])\ndenseBlockUp(\n  (net): Sequential(\n    (conv0): convBlock(\n      (bn): BatchNorm2d(64, eps=1e-05, momentum=0.1, affine=True, track_running_stats=True)\n      (relu): ReLU()\n      (conv): Conv2d(64, 16, kernel_size=(3, 3), stride=(1, 1), padding=(1, 1))\n    )\n    (conv1): convBlock(\n      (bn): BatchNorm2d(80, eps=1e-05, momentum=0.1, affine=True, track_running_stats=True)\n      (relu): ReLU()\n      (conv): Conv2d(80, 16, kernel_size=(3, 3), stride=(1, 1), padding=(1, 1))\n    )\n  )\n  (out_conv): convBlock(\n    (bn): BatchNorm2d(96, eps=1e-05, momentum=0.1, affine=True, track_running_stats=True)\n    (relu): ReLU()\n    (conv): Conv2d(96, 32, kernel_size=(3, 3), stride=(1, 1), padding=(1, 1))\n  )\n)\ntorch.Size([1, 32, 128, 128])\n"
    }
   ],
   "source": [
    "conv = nn.Conv2d(3,64,3,stride=1,padding=1)\n",
    "# print(conv)\n",
    "x = conv(img)\n",
    "dense = denseBlockUp(64, 32, 16, 2)\n",
    "y = dense(x)\n",
    "print(dense)\n",
    "print(y.shape)"
   ]
  },
  {
   "cell_type": "code",
   "execution_count": null,
   "metadata": {},
   "outputs": [],
   "source": [
    "from models.covidNet import covidNet"
   ]
  }
 ]
}